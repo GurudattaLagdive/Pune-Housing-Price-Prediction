{
 "cells": [
  {
   "cell_type": "code",
   "execution_count": 2,
   "metadata": {},
   "outputs": [],
   "source": [
    "import pandas as pd\n",
    "import requests\n",
    "from bs4 import BeautifulSoup\n",
    "import numpy as np\n",
    "import re\n",
    "import warnings\n",
    "warnings.filterwarnings('ignore')\n",
    "import matplotlib.pyplot as plt\n",
    "import seaborn as sns"
   ]
  },
  {
   "cell_type": "code",
   "execution_count": 3,
   "metadata": {},
   "outputs": [],
   "source": [
    "# Setup\n",
    "#headers = {\n",
    "#    'User-Agent': 'Mozilla/5.0 (Windows NT 6.3; Win64; x64) AppleWebKit/537.36 (KHTML, like Gecko) Chrome/80.0.3987.162 Safari/537.36'\n",
    "#}\n",
    "#base_url = 'https://www.quikr.com/homes/property/residential-for-sale-in-pune-cid_33?page={}'\n",
    "\n",
    "# List to store all listings\n",
    "#records = []\n",
    "\n",
    "# Loop through 5 pages\n",
    "#for page in range(1, 5001):\n",
    "#    url = base_url.format(page)\n",
    "#    response = requests.get(url, headers=headers)\n",
    "#    soup = BeautifulSoup(response.text, 'html.parser')\n",
    "\n",
    "    # Extract property summary and detail blocks\n",
    "#    properties = soup.find_all('div', class_='tophe')\n",
    "#    details = soup.find_all('ul', class_='project_d clearfix')\n",
    "\n",
    "    # Ensure matching length\n",
    "#    min_len = min(len(properties), len(details))\n",
    "\n",
    "#    for prop, block in zip(properties[:min_len], details[:min_len]):\n",
    "        # Title\n",
    "#        title_tag = prop.find('a', class_='listtitle notclickb', rel='noopener', target='_blank')\n",
    "#        title = title_tag.get_text(strip=True) if title_tag else None\n",
    "\n",
    "        # Price\n",
    "#        price_tag = prop.find('div', class_='liprice')\n",
    "#        price = price_tag.get_text(strip=True) if price_tag else None\n",
    "\n",
    "        # Detail fields\n",
    "#        transaction, area, availability = None, None, None\n",
    "#        for li in block.find_all('li'):\n",
    "#            label = li.get_text(separator='|', strip=True)\n",
    "#            if 'Transaction' in label:\n",
    "#                span = li.find('span')\n",
    "#                transaction = span.get_text(strip=True) if span else None\n",
    "#            elif 'Built-Up Area' in label:\n",
    "#                span = li.find('span')\n",
    "#                area = span.get_text(strip=True) if span else None\n",
    "#            elif 'Availability' in label:\n",
    "#                span = li.find('span')\n",
    "#                availability = span.get_text(strip=True) if span else None\n",
    "\n",
    "#        records.append({\n",
    "#            'Title': title,\n",
    "#            'Price': price,\n",
    "#            'Transaction': transaction,\n",
    "#            'Built-Up Area': area,\n",
    "#            'Availability': availability\n",
    "#        })\n",
    "\n",
    "#    print(f\"Scraped page {page}\")\n",
    "#    time.sleep(1)  # polite delay\n",
    "\n",
    "# Convert to DataFrame\n",
    "#df_1 = pd.DataFrame(records)\n",
    "\n",
    "# Show result\n",
    "\n",
    "\n",
    "# Optional: Save to CSV\n",
    "# df.to_csv(\"quikr_pune_properties_20250726.csv\", index=False)\n"
   ]
  },
  {
   "cell_type": "code",
   "execution_count": null,
   "metadata": {},
   "outputs": [],
   "source": []
  },
  {
   "cell_type": "code",
   "execution_count": 4,
   "metadata": {},
   "outputs": [],
   "source": [
    "#df_1.to_csv(\"quikr_pune_properties_20250726.csv\", index=False)"
   ]
  },
  {
   "cell_type": "code",
   "execution_count": 5,
   "metadata": {},
   "outputs": [],
   "source": [
    "df_1 = pd.read_csv(\"quikr_pune_properties_20250726.csv\")"
   ]
  },
  {
   "cell_type": "code",
   "execution_count": 6,
   "metadata": {},
   "outputs": [],
   "source": [
    "df = df_1.copy()"
   ]
  },
  {
   "cell_type": "code",
   "execution_count": 7,
   "metadata": {},
   "outputs": [],
   "source": [
    "df.drop_duplicates(inplace = True)\n",
    "df.rename(columns = {'Built-Up Area':'Area'},inplace = True)"
   ]
  },
  {
   "cell_type": "code",
   "execution_count": 8,
   "metadata": {},
   "outputs": [],
   "source": [
    "# Extracting exact location from Pune city.\n",
    "\n",
    "def extract_location(title):\n",
    "    match = re.search(r'in\\s+(.*)', title, re.IGNORECASE)\n",
    "    return match.group(1).strip() if match else None\n",
    "\n",
    "# Create new 'Location' column\n",
    "df['Location'] = df['Title'].apply(extract_location)\n",
    "\n",
    "# Optional: move Location next to Title\n",
    "cols = df.columns.tolist()\n",
    "cols.insert(cols.index('Title') + 1, cols.pop(cols.index('Location')))\n",
    "df = df[cols]"
   ]
  },
  {
   "cell_type": "code",
   "execution_count": 9,
   "metadata": {},
   "outputs": [],
   "source": [
    "#### pre-processing on location column\n",
    "\n",
    "def location(location):\n",
    "    if pd.isnull(location):\n",
    "        return location  # Keep None/NaN as-is\n",
    "\n",
    "    replace_items = [', Pune', ' Main Road', 'Pune, ', '.']\n",
    "    for item in replace_items:\n",
    "        location = location.replace(item, '')\n",
    "    return location\n",
    "\n",
    "df['Location'] = df['Location'].apply(location)"
   ]
  },
  {
   "cell_type": "code",
   "execution_count": 10,
   "metadata": {},
   "outputs": [],
   "source": [
    "#### pre-processing on location column\n",
    "\n",
    "location_map = {\n",
    "    'Chinchwad': 'Pimpri Chinchwad',\n",
    "    'Pimpri': 'Pimpri Chinchwad',\n",
    "    'Wakad': 'Wakad',\n",
    "    'Hinjawadi': 'Hinjewadi',\n",
    "    'Hinjewadi': 'Hinjewadi',\n",
    "    'Tathawade': 'Tathawade',\n",
    "    'Ravet': 'Ravet',\n",
    "    'Kharadi': 'Kharadi',\n",
    "    'Baner': 'Baner',\n",
    "    'Hadapsar': 'Hadapsar',\n",
    "    'Sinhagad': 'Sinhagad Road',\n",
    "    'Sinhgad': 'Sinhagad Road',\n",
    "    'Nigdi': 'Nigdi'\n",
    "}\n",
    "\n",
    "def location(location):\n",
    "    if pd.isnull(location):\n",
    "        return location  # Return as-is if null\n",
    "    \n",
    "    location_str = str(location)\n",
    "    for keyword, standard in location_map.items():\n",
    "        if keyword in location_str:\n",
    "            return standard\n",
    "    return location_str\n",
    "\n",
    "df['Location'] = df['Location'].apply(location)\n"
   ]
  },
  {
   "cell_type": "code",
   "execution_count": 11,
   "metadata": {},
   "outputs": [],
   "source": [
    "mask = df['Area'].isna()\n",
    "pattern = r'(\\d{3,5})\\s*sq\\s*\\.?\\s*ft'\n",
    "df.loc[mask, 'Area'] = df.loc[mask, 'Title'].str.extract(pattern, flags=re.IGNORECASE)[0]\n",
    "\n",
    "df['BHK'] = df['Title'].str.extract(r'(\\d{1,2})\\+?\\s*BHK', flags=re.IGNORECASE)[0]\n",
    "\n",
    "df = df[~df['Title'].str.contains(r'\\bplot\\b', case=False, na=False)]\n",
    "df = df[~df['Title'].str.contains(r'\\bvilla\\b', case=False, na=False)]\n",
    "df = df[~df['Price'].str.contains(r'\\bcontact\\b', case=False, na=False)]\n",
    "\n",
    "df = df[df['Area'].notna()]\n",
    "df = df[df['Location'].notna()]"
   ]
  },
  {
   "cell_type": "code",
   "execution_count": 12,
   "metadata": {},
   "outputs": [],
   "source": [
    "def convert_price(value):\n",
    "    text = str(value).lower().strip()\n",
    "\n",
    "    # Handle crore/crores\n",
    "    match_crore = re.search(r'([\\d\\.]+)\\s*crore', text)\n",
    "    if match_crore:\n",
    "        return float(match_crore.group(1)) * 100  # Convert to lakhs\n",
    "\n",
    "    # Handle lakh/lakhs/lac/lacs\n",
    "    match_lakh = re.search(r'([\\d\\.]+)\\s*(lakh|lakhs|lac|lacs)', text)\n",
    "    if match_lakh:\n",
    "        return float(match_lakh.group(1))\n",
    "\n",
    "    # Handle pure numeric values (assume it's in lakhs already)\n",
    "    match_number = re.fullmatch(r'[\\d\\.]+', text)\n",
    "    if match_number:\n",
    "        return float(text)\n",
    "\n",
    "    return None  # If nothing matches\n",
    "\n",
    "# Apply conversion\n",
    "df['Price_in_lakh'] = df['Price'].apply(convert_price)\n",
    "df['Price_in_lakh'] = df['Price_in_lakh'].astype(int)"
   ]
  },
  {
   "cell_type": "code",
   "execution_count": 13,
   "metadata": {},
   "outputs": [],
   "source": [
    "def extract_sqft(area):\n",
    "    if pd.isna(area):\n",
    "        return None\n",
    "\n",
    "    area = str(area).lower()\n",
    "\n",
    "    # If sqft is present, extract it\n",
    "    match_sqft = re.search(r'(\\d+\\.?\\d*)\\s*sq\\.?ft', area)\n",
    "    if match_sqft:\n",
    "        return float(match_sqft.group(1))\n",
    "\n",
    "    # If only sqm is present, convert to sqft\n",
    "    match_sqm = re.search(r'(\\d+\\.?\\d*)\\s*sq\\.?m', area)\n",
    "    if match_sqm:\n",
    "        sqm = float(match_sqm.group(1))\n",
    "        return round(sqm * 10.7639, 2)\n",
    "\n",
    "    return None\n",
    "\n",
    "# Apply the function\n",
    "df['Area_in_sqft'] = df['Area'].apply(extract_sqft)\n",
    "df['Area_in_sqft'] = df['Area_in_sqft'].astype(int)"
   ]
  },
  {
   "cell_type": "code",
   "execution_count": 14,
   "metadata": {},
   "outputs": [],
   "source": [
    "df.drop(['Title','Area','Price','Availability','Transaction'], axis=1,inplace = True)"
   ]
  },
  {
   "cell_type": "code",
   "execution_count": 15,
   "metadata": {},
   "outputs": [],
   "source": [
    "df = df[~df['Location'].str.contains('Baramati', case=False, na=False)]\n",
    "df = df[~df['Location'].str.contains('Bhor', case=False, na=False)]\n",
    "df = df[~df['Location'].str.contains('society', case=False, na=False)]"
   ]
  },
  {
   "cell_type": "code",
   "execution_count": 16,
   "metadata": {},
   "outputs": [
    {
     "data": {
      "text/plain": [
       "Location         0\n",
       "BHK              0\n",
       "Price_in_lakh    0\n",
       "Area_in_sqft     0\n",
       "dtype: int64"
      ]
     },
     "execution_count": 16,
     "metadata": {},
     "output_type": "execute_result"
    }
   ],
   "source": [
    "df.isnull().sum()"
   ]
  },
  {
   "cell_type": "code",
   "execution_count": 17,
   "metadata": {},
   "outputs": [],
   "source": [
    "df['price_per_sqft'] = round((df['Price_in_lakh'] * 100000) / df['Area_in_sqft'],0)\n",
    "df['price_per_sqft'] = df['price_per_sqft'].astype('int')"
   ]
  },
  {
   "cell_type": "code",
   "execution_count": 18,
   "metadata": {},
   "outputs": [],
   "source": [
    "df['BHK'] = df['BHK'].astype('int')"
   ]
  },
  {
   "cell_type": "code",
   "execution_count": 19,
   "metadata": {},
   "outputs": [
    {
     "data": {
      "text/plain": [
       "Index(['Location', 'BHK', 'Price_in_lakh', 'Area_in_sqft', 'price_per_sqft'], dtype='object')"
      ]
     },
     "execution_count": 19,
     "metadata": {},
     "output_type": "execute_result"
    }
   ],
   "source": [
    "df.columns"
   ]
  },
  {
   "cell_type": "code",
   "execution_count": 20,
   "metadata": {},
   "outputs": [
    {
     "data": {
      "image/png": "[encoded data removed]",
      "text/plain": [
       "<Figure size 864x432 with 1 Axes>"
      ]
     },
     "metadata": {
      "needs_background": "light"
     },
     "output_type": "display_data"
    }
   ],
   "source": [
    "top10_locations = df.groupby('Location')['price_per_sqft'].mean().sort_values(ascending=False).head(10)\n",
    "\n",
    "plt.figure(figsize=(12,6))\n",
    "sns.barplot(x=top10_locations.index, y=top10_locations.values, palette='magma')\n",
    "plt.title('Top 10 Locations by Avg Price per sqft (₹)')\n",
    "plt.ylabel('Price per sqft (₹)')\n",
    "plt.xticks(rotation=45)\n",
    "plt.tight_layout()\n",
    "plt.show()"
   ]
  },
  {
   "cell_type": "code",
   "execution_count": 21,
   "metadata": {},
   "outputs": [
    {
     "data": {
      "image/png": "[encoded data removed]",
      "text/plain": [
       "<Figure size 720x432 with 1 Axes>"
      ]
     },
     "metadata": {
      "needs_background": "light"
     },
     "output_type": "display_data"
    }
   ],
   "source": [
    "plt.figure(figsize=(10,6))\n",
    "sns.boxplot(data=df, x='BHK', y='Price_in_lakh', palette='coolwarm')\n",
    "plt.title('Price per sqft by BHK')\n",
    "plt.ylabel('Price per sqft (₹)')\n",
    "plt.xlabel('BHK')\n",
    "plt.tight_layout()\n",
    "plt.show()"
   ]
  },
  {
   "cell_type": "code",
   "execution_count": 22,
   "metadata": {},
   "outputs": [
    {
     "data": {
      "text/plain": [
       "(9830, 5)"
      ]
     },
     "execution_count": 22,
     "metadata": {},
     "output_type": "execute_result"
    }
   ],
   "source": [
    "dff = df.copy()\n",
    "dff = dff.drop_duplicates()\n",
    "dff.shape"
   ]
  },
  {
   "cell_type": "code",
   "execution_count": 23,
   "metadata": {},
   "outputs": [
    {
     "data": {
      "text/html": [
       "<div>\n",
       "<style scoped>\n",
       "    .dataframe tbody tr th:only-of-type {\n",
       "        vertical-align: middle;\n",
       "    }\n",
       "\n",
       "    .dataframe tbody tr th {\n",
       "        vertical-align: top;\n",
       "    }\n",
       "\n",
       "    .dataframe thead th {\n",
       "        text-align: right;\n",
       "    }\n",
       "</style>\n",
       "<table border=\"1\" class=\"dataframe\">\n",
       "  <thead>\n",
       "    <tr style=\"text-align: right;\">\n",
       "      <th></th>\n",
       "      <th>Location</th>\n",
       "      <th>BHK</th>\n",
       "      <th>Price_in_lakh</th>\n",
       "      <th>Area_in_sqft</th>\n",
       "      <th>price_per_sqft</th>\n",
       "    </tr>\n",
       "  </thead>\n",
       "  <tbody>\n",
       "    <tr>\n",
       "      <th>0</th>\n",
       "      <td>Tathawade</td>\n",
       "      <td>2</td>\n",
       "      <td>65</td>\n",
       "      <td>643</td>\n",
       "      <td>10109</td>\n",
       "    </tr>\n",
       "    <tr>\n",
       "      <th>1</th>\n",
       "      <td>Tathawade</td>\n",
       "      <td>2</td>\n",
       "      <td>82</td>\n",
       "      <td>743</td>\n",
       "      <td>11036</td>\n",
       "    </tr>\n",
       "    <tr>\n",
       "      <th>2</th>\n",
       "      <td>Kharadi</td>\n",
       "      <td>5</td>\n",
       "      <td>47</td>\n",
       "      <td>270</td>\n",
       "      <td>17407</td>\n",
       "    </tr>\n",
       "    <tr>\n",
       "      <th>3</th>\n",
       "      <td>Ravet</td>\n",
       "      <td>3</td>\n",
       "      <td>204</td>\n",
       "      <td>1850</td>\n",
       "      <td>11027</td>\n",
       "    </tr>\n",
       "    <tr>\n",
       "      <th>4</th>\n",
       "      <td>Sahakar Nagar</td>\n",
       "      <td>3</td>\n",
       "      <td>195</td>\n",
       "      <td>1351</td>\n",
       "      <td>14434</td>\n",
       "    </tr>\n",
       "    <tr>\n",
       "      <th>...</th>\n",
       "      <td>...</td>\n",
       "      <td>...</td>\n",
       "      <td>...</td>\n",
       "      <td>...</td>\n",
       "      <td>...</td>\n",
       "    </tr>\n",
       "    <tr>\n",
       "      <th>15982</th>\n",
       "      <td>Moshi</td>\n",
       "      <td>2</td>\n",
       "      <td>44</td>\n",
       "      <td>861</td>\n",
       "      <td>5110</td>\n",
       "    </tr>\n",
       "    <tr>\n",
       "      <th>15983</th>\n",
       "      <td>Moshi</td>\n",
       "      <td>1</td>\n",
       "      <td>38</td>\n",
       "      <td>594</td>\n",
       "      <td>6397</td>\n",
       "    </tr>\n",
       "    <tr>\n",
       "      <th>15984</th>\n",
       "      <td>Wakad</td>\n",
       "      <td>2</td>\n",
       "      <td>57</td>\n",
       "      <td>813</td>\n",
       "      <td>7011</td>\n",
       "    </tr>\n",
       "    <tr>\n",
       "      <th>15985</th>\n",
       "      <td>Narhe</td>\n",
       "      <td>2</td>\n",
       "      <td>58</td>\n",
       "      <td>1175</td>\n",
       "      <td>4936</td>\n",
       "    </tr>\n",
       "    <tr>\n",
       "      <th>15987</th>\n",
       "      <td>Kothrud</td>\n",
       "      <td>1</td>\n",
       "      <td>56</td>\n",
       "      <td>603</td>\n",
       "      <td>9287</td>\n",
       "    </tr>\n",
       "  </tbody>\n",
       "</table>\n",
       "<p>9830 rows × 5 columns</p>\n",
       "</div>"
      ],
      "text/plain": [
       "            Location  BHK  Price_in_lakh  Area_in_sqft  price_per_sqft\n",
       "0          Tathawade    2             65           643           10109\n",
       "1          Tathawade    2             82           743           11036\n",
       "2            Kharadi    5             47           270           17407\n",
       "3              Ravet    3            204          1850           11027\n",
       "4      Sahakar Nagar    3            195          1351           14434\n",
       "...              ...  ...            ...           ...             ...\n",
       "15982          Moshi    2             44           861            5110\n",
       "15983          Moshi    1             38           594            6397\n",
       "15984          Wakad    2             57           813            7011\n",
       "15985          Narhe    2             58          1175            4936\n",
       "15987        Kothrud    1             56           603            9287\n",
       "\n",
       "[9830 rows x 5 columns]"
      ]
     },
     "execution_count": 23,
     "metadata": {},
     "output_type": "execute_result"
    }
   ],
   "source": [
    "dff"
   ]
  },
  {
   "cell_type": "markdown",
   "metadata": {},
   "source": [
    "Outlier detection & outlier removal using Z-SCORE scaling"
   ]
  },
  {
   "cell_type": "code",
   "execution_count": 24,
   "metadata": {},
   "outputs": [
    {
     "data": {
      "text/plain": [
       "(9378, 7)"
      ]
     },
     "execution_count": 24,
     "metadata": {},
     "output_type": "execute_result"
    }
   ],
   "source": [
    "dff['expected_area'] = dff['BHK'] * 300\n",
    "dff['area_deviation'] = dff['Area_in_sqft'] - dff['expected_area']\n",
    "\n",
    "# Keep only rows with area_deviation >= 0\n",
    "dff = dff[(dff['area_deviation'] >= 0) & (dff['area_deviation'] <= 1000)]\n",
    "dff.shape"
   ]
  },
  {
   "cell_type": "code",
   "execution_count": 25,
   "metadata": {},
   "outputs": [],
   "source": [
    "######## finding z-score to detect outliers using scipy library\n",
    "\n",
    "from scipy.stats import zscore"
   ]
  },
  {
   "cell_type": "code",
   "execution_count": 26,
   "metadata": {},
   "outputs": [
    {
     "data": {
      "text/plain": [
       "(9340, 8)"
      ]
     },
     "execution_count": 26,
     "metadata": {},
     "output_type": "execute_result"
    }
   ],
   "source": [
    "dff['z_score'] = zscore(dff['price_per_sqft'])\n",
    "dff = dff[dff['z_score'].abs() <= 3]\n",
    "dff.shape"
   ]
  },
  {
   "cell_type": "code",
   "execution_count": 27,
   "metadata": {},
   "outputs": [],
   "source": [
    "dff['price_per_sqft_log'] = np.log1p(dff['price_per_sqft'])  # log1p = log(1 + x)\n",
    "dff['Price_in_lakh_log'] = np.log1p(dff['Price_in_lakh'])\n",
    "dff['Area_in_sqft_log'] = np.log1p(dff['Area_in_sqft'])"
   ]
  },
  {
   "cell_type": "code",
   "execution_count": 28,
   "metadata": {},
   "outputs": [
    {
     "data": {
      "text/html": [
       "<div>\n",
       "<style scoped>\n",
       "    .dataframe tbody tr th:only-of-type {\n",
       "        vertical-align: middle;\n",
       "    }\n",
       "\n",
       "    .dataframe tbody tr th {\n",
       "        vertical-align: top;\n",
       "    }\n",
       "\n",
       "    .dataframe thead th {\n",
       "        text-align: right;\n",
       "    }\n",
       "</style>\n",
       "<table border=\"1\" class=\"dataframe\">\n",
       "  <thead>\n",
       "    <tr style=\"text-align: right;\">\n",
       "      <th></th>\n",
       "      <th>Location</th>\n",
       "      <th>BHK</th>\n",
       "      <th>Price_in_lakh</th>\n",
       "      <th>Area_in_sqft</th>\n",
       "      <th>price_per_sqft</th>\n",
       "      <th>expected_area</th>\n",
       "      <th>area_deviation</th>\n",
       "      <th>z_score</th>\n",
       "      <th>price_per_sqft_log</th>\n",
       "      <th>Price_in_lakh_log</th>\n",
       "      <th>Area_in_sqft_log</th>\n",
       "    </tr>\n",
       "  </thead>\n",
       "  <tbody>\n",
       "    <tr>\n",
       "      <th>0</th>\n",
       "      <td>Tathawade</td>\n",
       "      <td>2</td>\n",
       "      <td>65</td>\n",
       "      <td>643</td>\n",
       "      <td>10109</td>\n",
       "      <td>600</td>\n",
       "      <td>43</td>\n",
       "      <td>-0.136620</td>\n",
       "      <td>9.221280</td>\n",
       "      <td>4.189655</td>\n",
       "      <td>6.467699</td>\n",
       "    </tr>\n",
       "    <tr>\n",
       "      <th>1</th>\n",
       "      <td>Tathawade</td>\n",
       "      <td>2</td>\n",
       "      <td>82</td>\n",
       "      <td>743</td>\n",
       "      <td>11036</td>\n",
       "      <td>600</td>\n",
       "      <td>143</td>\n",
       "      <td>0.070235</td>\n",
       "      <td>9.309009</td>\n",
       "      <td>4.418841</td>\n",
       "      <td>6.612041</td>\n",
       "    </tr>\n",
       "    <tr>\n",
       "      <th>3</th>\n",
       "      <td>Ravet</td>\n",
       "      <td>3</td>\n",
       "      <td>204</td>\n",
       "      <td>1850</td>\n",
       "      <td>11027</td>\n",
       "      <td>900</td>\n",
       "      <td>950</td>\n",
       "      <td>0.068227</td>\n",
       "      <td>9.308193</td>\n",
       "      <td>5.323010</td>\n",
       "      <td>7.523481</td>\n",
       "    </tr>\n",
       "    <tr>\n",
       "      <th>4</th>\n",
       "      <td>Sahakar Nagar</td>\n",
       "      <td>3</td>\n",
       "      <td>195</td>\n",
       "      <td>1351</td>\n",
       "      <td>14434</td>\n",
       "      <td>900</td>\n",
       "      <td>451</td>\n",
       "      <td>0.828481</td>\n",
       "      <td>9.577411</td>\n",
       "      <td>5.278115</td>\n",
       "      <td>7.209340</td>\n",
       "    </tr>\n",
       "    <tr>\n",
       "      <th>5</th>\n",
       "      <td>Katraj</td>\n",
       "      <td>2</td>\n",
       "      <td>71</td>\n",
       "      <td>1071</td>\n",
       "      <td>6629</td>\n",
       "      <td>600</td>\n",
       "      <td>471</td>\n",
       "      <td>-0.913163</td>\n",
       "      <td>8.799360</td>\n",
       "      <td>4.276666</td>\n",
       "      <td>6.977281</td>\n",
       "    </tr>\n",
       "    <tr>\n",
       "      <th>...</th>\n",
       "      <td>...</td>\n",
       "      <td>...</td>\n",
       "      <td>...</td>\n",
       "      <td>...</td>\n",
       "      <td>...</td>\n",
       "      <td>...</td>\n",
       "      <td>...</td>\n",
       "      <td>...</td>\n",
       "      <td>...</td>\n",
       "      <td>...</td>\n",
       "      <td>...</td>\n",
       "    </tr>\n",
       "    <tr>\n",
       "      <th>15982</th>\n",
       "      <td>Moshi</td>\n",
       "      <td>2</td>\n",
       "      <td>44</td>\n",
       "      <td>861</td>\n",
       "      <td>5110</td>\n",
       "      <td>600</td>\n",
       "      <td>261</td>\n",
       "      <td>-1.252120</td>\n",
       "      <td>8.539150</td>\n",
       "      <td>3.806662</td>\n",
       "      <td>6.759255</td>\n",
       "    </tr>\n",
       "    <tr>\n",
       "      <th>15983</th>\n",
       "      <td>Moshi</td>\n",
       "      <td>1</td>\n",
       "      <td>38</td>\n",
       "      <td>594</td>\n",
       "      <td>6397</td>\n",
       "      <td>300</td>\n",
       "      <td>294</td>\n",
       "      <td>-0.964933</td>\n",
       "      <td>8.763741</td>\n",
       "      <td>3.663562</td>\n",
       "      <td>6.388561</td>\n",
       "    </tr>\n",
       "    <tr>\n",
       "      <th>15984</th>\n",
       "      <td>Wakad</td>\n",
       "      <td>2</td>\n",
       "      <td>57</td>\n",
       "      <td>813</td>\n",
       "      <td>7011</td>\n",
       "      <td>600</td>\n",
       "      <td>213</td>\n",
       "      <td>-0.827922</td>\n",
       "      <td>8.855378</td>\n",
       "      <td>4.060443</td>\n",
       "      <td>6.701960</td>\n",
       "    </tr>\n",
       "    <tr>\n",
       "      <th>15985</th>\n",
       "      <td>Narhe</td>\n",
       "      <td>2</td>\n",
       "      <td>58</td>\n",
       "      <td>1175</td>\n",
       "      <td>4936</td>\n",
       "      <td>600</td>\n",
       "      <td>575</td>\n",
       "      <td>-1.290947</td>\n",
       "      <td>8.504513</td>\n",
       "      <td>4.077537</td>\n",
       "      <td>7.069874</td>\n",
       "    </tr>\n",
       "    <tr>\n",
       "      <th>15987</th>\n",
       "      <td>Kothrud</td>\n",
       "      <td>1</td>\n",
       "      <td>56</td>\n",
       "      <td>603</td>\n",
       "      <td>9287</td>\n",
       "      <td>300</td>\n",
       "      <td>303</td>\n",
       "      <td>-0.320045</td>\n",
       "      <td>9.136479</td>\n",
       "      <td>4.043051</td>\n",
       "      <td>6.403574</td>\n",
       "    </tr>\n",
       "  </tbody>\n",
       "</table>\n",
       "<p>9340 rows × 11 columns</p>\n",
       "</div>"
      ],
      "text/plain": [
       "            Location  BHK  Price_in_lakh  Area_in_sqft  price_per_sqft  \\\n",
       "0          Tathawade    2             65           643           10109   \n",
       "1          Tathawade    2             82           743           11036   \n",
       "3              Ravet    3            204          1850           11027   \n",
       "4      Sahakar Nagar    3            195          1351           14434   \n",
       "5             Katraj    2             71          1071            6629   \n",
       "...              ...  ...            ...           ...             ...   \n",
       "15982          Moshi    2             44           861            5110   \n",
       "15983          Moshi    1             38           594            6397   \n",
       "15984          Wakad    2             57           813            7011   \n",
       "15985          Narhe    2             58          1175            4936   \n",
       "15987        Kothrud    1             56           603            9287   \n",
       "\n",
       "       expected_area  area_deviation   z_score  price_per_sqft_log  \\\n",
       "0                600              43 -0.136620            9.221280   \n",
       "1                600             143  0.070235            9.309009   \n",
       "3                900             950  0.068227            9.308193   \n",
       "4                900             451  0.828481            9.577411   \n",
       "5                600             471 -0.913163            8.799360   \n",
       "...              ...             ...       ...                 ...   \n",
       "15982            600             261 -1.252120            8.539150   \n",
       "15983            300             294 -0.964933            8.763741   \n",
       "15984            600             213 -0.827922            8.855378   \n",
       "15985            600             575 -1.290947            8.504513   \n",
       "15987            300             303 -0.320045            9.136479   \n",
       "\n",
       "       Price_in_lakh_log  Area_in_sqft_log  \n",
       "0               4.189655          6.467699  \n",
       "1               4.418841          6.612041  \n",
       "3               5.323010          7.523481  \n",
       "4               5.278115          7.209340  \n",
       "5               4.276666          6.977281  \n",
       "...                  ...               ...  \n",
       "15982           3.806662          6.759255  \n",
       "15983           3.663562          6.388561  \n",
       "15984           4.060443          6.701960  \n",
       "15985           4.077537          7.069874  \n",
       "15987           4.043051          6.403574  \n",
       "\n",
       "[9340 rows x 11 columns]"
      ]
     },
     "execution_count": 28,
     "metadata": {},
     "output_type": "execute_result"
    }
   ],
   "source": [
    "dff"
   ]
  },
  {
   "cell_type": "code",
   "execution_count": 29,
   "metadata": {},
   "outputs": [
    {
     "data": {
      "image/png": "[encoded data removed]",
      "text/plain": [
       "<Figure size 864x360 with 2 Axes>"
      ]
     },
     "metadata": {
      "needs_background": "light"
     },
     "output_type": "display_data"
    }
   ],
   "source": [
    "fig, axes = plt.subplots(1, 2, figsize=(12, 5))\n",
    "\n",
    "sns.histplot(dff['Price_in_lakh_log'], kde=True, ax=axes[0])\n",
    "axes[0].set_title('Log-transformed Price (in Lakh)')\n",
    "\n",
    "sns.histplot(dff['Area_in_sqft_log'], kde=True, ax=axes[1])\n",
    "axes[1].set_title('Log-transformed Area (in sqft)')\n",
    "\n",
    "plt.tight_layout()\n",
    "plt.show()"
   ]
  },
  {
   "cell_type": "code",
   "execution_count": 30,
   "metadata": {},
   "outputs": [
    {
     "name": "stdout",
     "output_type": "stream",
     "text": [
      "Skewness of Area_in_sqft (before log): 0.7187557732755846\n",
      "Skewness of Area_in_sqft_log (after log): -0.1804508939136122\n"
     ]
    }
   ],
   "source": [
    "print(\"Skewness of Area_in_sqft (before log):\", dff['Area_in_sqft'].skew())\n",
    "print(\"Skewness of Area_in_sqft_log (after log):\", dff['Area_in_sqft_log'].skew())"
   ]
  },
  {
   "cell_type": "code",
   "execution_count": 31,
   "metadata": {},
   "outputs": [],
   "source": [
    "dff = dff.drop(columns = ['expected_area','area_deviation','z_score','Price_in_lakh','Area_in_sqft','price_per_sqft'])"
   ]
  },
  {
   "cell_type": "code",
   "execution_count": 32,
   "metadata": {},
   "outputs": [],
   "source": [
    "dff.rename(columns={\n",
    "    'price_per_sqft_log': 'Price_per_sqft_log',\n",
    "    'Price_in_lakh_log': 'log_price'\n",
    "}, inplace=True)"
   ]
  },
  {
   "cell_type": "code",
   "execution_count": 33,
   "metadata": {},
   "outputs": [
    {
     "data": {
      "text/html": [
       "<div>\n",
       "<style scoped>\n",
       "    .dataframe tbody tr th:only-of-type {\n",
       "        vertical-align: middle;\n",
       "    }\n",
       "\n",
       "    .dataframe tbody tr th {\n",
       "        vertical-align: top;\n",
       "    }\n",
       "\n",
       "    .dataframe thead th {\n",
       "        text-align: right;\n",
       "    }\n",
       "</style>\n",
       "<table border=\"1\" class=\"dataframe\">\n",
       "  <thead>\n",
       "    <tr style=\"text-align: right;\">\n",
       "      <th></th>\n",
       "      <th>Location</th>\n",
       "      <th>BHK</th>\n",
       "      <th>Price_per_sqft_log</th>\n",
       "      <th>log_price</th>\n",
       "      <th>Area_in_sqft_log</th>\n",
       "    </tr>\n",
       "  </thead>\n",
       "  <tbody>\n",
       "    <tr>\n",
       "      <th>0</th>\n",
       "      <td>Tathawade</td>\n",
       "      <td>2</td>\n",
       "      <td>9.221280</td>\n",
       "      <td>4.189655</td>\n",
       "      <td>6.467699</td>\n",
       "    </tr>\n",
       "    <tr>\n",
       "      <th>1</th>\n",
       "      <td>Tathawade</td>\n",
       "      <td>2</td>\n",
       "      <td>9.309009</td>\n",
       "      <td>4.418841</td>\n",
       "      <td>6.612041</td>\n",
       "    </tr>\n",
       "    <tr>\n",
       "      <th>3</th>\n",
       "      <td>Ravet</td>\n",
       "      <td>3</td>\n",
       "      <td>9.308193</td>\n",
       "      <td>5.323010</td>\n",
       "      <td>7.523481</td>\n",
       "    </tr>\n",
       "    <tr>\n",
       "      <th>4</th>\n",
       "      <td>Sahakar Nagar</td>\n",
       "      <td>3</td>\n",
       "      <td>9.577411</td>\n",
       "      <td>5.278115</td>\n",
       "      <td>7.209340</td>\n",
       "    </tr>\n",
       "    <tr>\n",
       "      <th>5</th>\n",
       "      <td>Katraj</td>\n",
       "      <td>2</td>\n",
       "      <td>8.799360</td>\n",
       "      <td>4.276666</td>\n",
       "      <td>6.977281</td>\n",
       "    </tr>\n",
       "    <tr>\n",
       "      <th>...</th>\n",
       "      <td>...</td>\n",
       "      <td>...</td>\n",
       "      <td>...</td>\n",
       "      <td>...</td>\n",
       "      <td>...</td>\n",
       "    </tr>\n",
       "    <tr>\n",
       "      <th>15982</th>\n",
       "      <td>Moshi</td>\n",
       "      <td>2</td>\n",
       "      <td>8.539150</td>\n",
       "      <td>3.806662</td>\n",
       "      <td>6.759255</td>\n",
       "    </tr>\n",
       "    <tr>\n",
       "      <th>15983</th>\n",
       "      <td>Moshi</td>\n",
       "      <td>1</td>\n",
       "      <td>8.763741</td>\n",
       "      <td>3.663562</td>\n",
       "      <td>6.388561</td>\n",
       "    </tr>\n",
       "    <tr>\n",
       "      <th>15984</th>\n",
       "      <td>Wakad</td>\n",
       "      <td>2</td>\n",
       "      <td>8.855378</td>\n",
       "      <td>4.060443</td>\n",
       "      <td>6.701960</td>\n",
       "    </tr>\n",
       "    <tr>\n",
       "      <th>15985</th>\n",
       "      <td>Narhe</td>\n",
       "      <td>2</td>\n",
       "      <td>8.504513</td>\n",
       "      <td>4.077537</td>\n",
       "      <td>7.069874</td>\n",
       "    </tr>\n",
       "    <tr>\n",
       "      <th>15987</th>\n",
       "      <td>Kothrud</td>\n",
       "      <td>1</td>\n",
       "      <td>9.136479</td>\n",
       "      <td>4.043051</td>\n",
       "      <td>6.403574</td>\n",
       "    </tr>\n",
       "  </tbody>\n",
       "</table>\n",
       "<p>9340 rows × 5 columns</p>\n",
       "</div>"
      ],
      "text/plain": [
       "            Location  BHK  Price_per_sqft_log  log_price  Area_in_sqft_log\n",
       "0          Tathawade    2            9.221280   4.189655          6.467699\n",
       "1          Tathawade    2            9.309009   4.418841          6.612041\n",
       "3              Ravet    3            9.308193   5.323010          7.523481\n",
       "4      Sahakar Nagar    3            9.577411   5.278115          7.209340\n",
       "5             Katraj    2            8.799360   4.276666          6.977281\n",
       "...              ...  ...                 ...        ...               ...\n",
       "15982          Moshi    2            8.539150   3.806662          6.759255\n",
       "15983          Moshi    1            8.763741   3.663562          6.388561\n",
       "15984          Wakad    2            8.855378   4.060443          6.701960\n",
       "15985          Narhe    2            8.504513   4.077537          7.069874\n",
       "15987        Kothrud    1            9.136479   4.043051          6.403574\n",
       "\n",
       "[9340 rows x 5 columns]"
      ]
     },
     "execution_count": 33,
     "metadata": {},
     "output_type": "execute_result"
    }
   ],
   "source": [
    "dff"
   ]
  },
  {
   "cell_type": "code",
   "execution_count": 44,
   "metadata": {},
   "outputs": [],
   "source": [
    "from sklearn.model_selection import train_test_split\n",
    "from sklearn.preprocessing import OneHotEncoder\n",
    "from sklearn.compose import ColumnTransformer\n",
    "from sklearn.pipeline import Pipeline\n",
    "from sklearn.linear_model import LinearRegression\n",
    "from sklearn.ensemble import RandomForestRegressor\n",
    "from sklearn.metrics import mean_squared_error, r2_score\n",
    "import joblib\n",
    "from sklearn.preprocessing import StandardScaler\n",
    "from xgboost import XGBRegressor"
   ]
  },
  {
   "cell_type": "markdown",
   "metadata": {},
   "source": [
    "I want apply one hot encoding on location col"
   ]
  },
  {
   "cell_type": "code",
   "execution_count": 45,
   "metadata": {},
   "outputs": [
    {
     "data": {
      "text/plain": [
       "['C:\\\\Users\\\\rohit\\\\Desktop\\\\Machine Learning\\\\housing_app\\\\model_features.pkl']"
      ]
     },
     "execution_count": 45,
     "metadata": {},
     "output_type": "execute_result"
    }
   ],
   "source": [
    "# Normalize location capitalization before grouping\n",
    "dff['Location'] = dff['Location'].str.strip().str.title()\n",
    "\n",
    "# Group rare locations\n",
    "location_counts = dff['Location'].value_counts()\n",
    "rare_locations = location_counts[location_counts <= 20].index\n",
    "dff['Location'] = dff['Location'].apply(lambda x: 'Others' if x in rare_locations else x)\n",
    "\n",
    "model_features = dff.drop(columns=['log_price']).columns.tolist()\n",
    "\n",
    "joblib.dump(model_features, r'C:\\Users\\rohit\\Desktop\\Machine Learning\\housing_app\\model_features.pkl')"
   ]
  },
  {
   "cell_type": "code",
   "execution_count": 46,
   "metadata": {},
   "outputs": [],
   "source": [
    "# Define features and target\n",
    "X = dff[['Location', 'BHK', 'Area_in_sqft_log']]\n",
    "y = dff['log_price']\n",
    "\n",
    "# Split data\n",
    "X_train, X_test, y_train, y_test = train_test_split(X, y, test_size=0.2, random_state=42)"
   ]
  },
  {
   "cell_type": "code",
   "execution_count": 47,
   "metadata": {},
   "outputs": [],
   "source": [
    "# Preprocessing\n",
    "categorical_features = ['Location']\n",
    "numeric_features = ['BHK', 'Area_in_sqft_log']\n",
    "\n",
    "preprocessor = ColumnTransformer([\n",
    "    ('onehot', OneHotEncoder(handle_unknown='ignore'), categorical_features),\n",
    "    ('scale', StandardScaler(), numeric_features)\n",
    "])"
   ]
  },
  {
   "cell_type": "markdown",
   "metadata": {},
   "source": [
    "# USING LINEAR REGRESSION FOR THE PREDICTION"
   ]
  },
  {
   "cell_type": "code",
   "execution_count": 48,
   "metadata": {},
   "outputs": [
    {
     "data": {
      "text/html": [
       "<style>#sk-container-id-1 {color: black;}#sk-container-id-1 pre{padding: 0;}#sk-container-id-1 div.sk-toggleable {background-color: white;}#sk-container-id-1 label.sk-toggleable__label {cursor: pointer;display: block;width: 100%;margin-bottom: 0;padding: 0.3em;box-sizing: border-box;text-align: center;}#sk-container-id-1 label.sk-toggleable__label-arrow:before {content: \"▸\";float: left;margin-right: 0.25em;color: #696969;}#sk-container-id-1 label.sk-toggleable__label-arrow:hover:before {color: black;}#sk-container-id-1 div.sk-estimator:hover label.sk-toggleable__label-arrow:before {color: black;}#sk-container-id-1 div.sk-toggleable__content {max-height: 0;max-width: 0;overflow: hidden;text-align: left;background-color: #f0f8ff;}#sk-container-id-1 div.sk-toggleable__content pre {margin: 0.2em;color: black;border-radius: 0.25em;background-color: #f0f8ff;}#sk-container-id-1 input.sk-toggleable__control:checked~div.sk-toggleable__content {max-height: 200px;max-width: 100%;overflow: auto;}#sk-container-id-1 input.sk-toggleable__control:checked~label.sk-toggleable__label-arrow:before {content: \"▾\";}#sk-container-id-1 div.sk-estimator input.sk-toggleable__control:checked~label.sk-toggleable__label {background-color: #d4ebff;}#sk-container-id-1 div.sk-label input.sk-toggleable__control:checked~label.sk-toggleable__label {background-color: #d4ebff;}#sk-container-id-1 input.sk-hidden--visually {border: 0;clip: rect(1px 1px 1px 1px);clip: rect(1px, 1px, 1px, 1px);height: 1px;margin: -1px;overflow: hidden;padding: 0;position: absolute;width: 1px;}#sk-container-id-1 div.sk-estimator {font-family: monospace;background-color: #f0f8ff;border: 1px dotted black;border-radius: 0.25em;box-sizing: border-box;margin-bottom: 0.5em;}#sk-container-id-1 div.sk-estimator:hover {background-color: #d4ebff;}#sk-container-id-1 div.sk-parallel-item::after {content: \"\";width: 100%;border-bottom: 1px solid gray;flex-grow: 1;}#sk-container-id-1 div.sk-label:hover label.sk-toggleable__label {background-color: #d4ebff;}#sk-container-id-1 div.sk-serial::before {content: \"\";position: absolute;border-left: 1px solid gray;box-sizing: border-box;top: 0;bottom: 0;left: 50%;z-index: 0;}#sk-container-id-1 div.sk-serial {display: flex;flex-direction: column;align-items: center;background-color: white;padding-right: 0.2em;padding-left: 0.2em;position: relative;}#sk-container-id-1 div.sk-item {position: relative;z-index: 1;}#sk-container-id-1 div.sk-parallel {display: flex;align-items: stretch;justify-content: center;background-color: white;position: relative;}#sk-container-id-1 div.sk-item::before, #sk-container-id-1 div.sk-parallel-item::before {content: \"\";position: absolute;border-left: 1px solid gray;box-sizing: border-box;top: 0;bottom: 0;left: 50%;z-index: -1;}#sk-container-id-1 div.sk-parallel-item {display: flex;flex-direction: column;z-index: 1;position: relative;background-color: white;}#sk-container-id-1 div.sk-parallel-item:first-child::after {align-self: flex-end;width: 50%;}#sk-container-id-1 div.sk-parallel-item:last-child::after {align-self: flex-start;width: 50%;}#sk-container-id-1 div.sk-parallel-item:only-child::after {width: 0;}#sk-container-id-1 div.sk-dashed-wrapped {border: 1px dashed gray;margin: 0 0.4em 0.5em 0.4em;box-sizing: border-box;padding-bottom: 0.4em;background-color: white;}#sk-container-id-1 div.sk-label label {font-family: monospace;font-weight: bold;display: inline-block;line-height: 1.2em;}#sk-container-id-1 div.sk-label-container {text-align: center;}#sk-container-id-1 div.sk-container {/* jupyter's `normalize.less` sets `[hidden] { display: none; }` but bootstrap.min.css set `[hidden] { display: none !important; }` so we also need the `!important` here to be able to override the default hidden behavior on the sphinx rendered scikit-learn.org. See: https://github.com/scikit-learn/scikit-learn/issues/21755 */display: inline-block !important;position: relative;}#sk-container-id-1 div.sk-text-repr-fallback {display: none;}</style><div id=\"sk-container-id-1\" class=\"sk-top-container\"><div class=\"sk-text-repr-fallback\"><pre>Pipeline(steps=[(&#x27;preprocessor&#x27;,\n",
       "                 ColumnTransformer(transformers=[(&#x27;onehot&#x27;,\n",
       "                                                  OneHotEncoder(handle_unknown=&#x27;ignore&#x27;),\n",
       "                                                  [&#x27;Location&#x27;]),\n",
       "                                                 (&#x27;scale&#x27;, StandardScaler(),\n",
       "                                                  [&#x27;BHK&#x27;,\n",
       "                                                   &#x27;Area_in_sqft_log&#x27;])])),\n",
       "                (&#x27;model&#x27;, LinearRegression())])</pre><b>In a Jupyter environment, please rerun this cell to show the HTML representation or trust the notebook. <br />On GitHub, the HTML representation is unable to render, please try loading this page with nbviewer.org.</b></div><div class=\"sk-container\" hidden><div class=\"sk-item sk-dashed-wrapped\"><div class=\"sk-label-container\"><div class=\"sk-label sk-toggleable\"><input class=\"sk-toggleable__control sk-hidden--visually\" id=\"sk-estimator-id-1\" type=\"checkbox\" ><label for=\"sk-estimator-id-1\" class=\"sk-toggleable__label sk-toggleable__label-arrow\">Pipeline</label><div class=\"sk-toggleable__content\"><pre>Pipeline(steps=[(&#x27;preprocessor&#x27;,\n",
       "                 ColumnTransformer(transformers=[(&#x27;onehot&#x27;,\n",
       "                                                  OneHotEncoder(handle_unknown=&#x27;ignore&#x27;),\n",
       "                                                  [&#x27;Location&#x27;]),\n",
       "                                                 (&#x27;scale&#x27;, StandardScaler(),\n",
       "                                                  [&#x27;BHK&#x27;,\n",
       "                                                   &#x27;Area_in_sqft_log&#x27;])])),\n",
       "                (&#x27;model&#x27;, LinearRegression())])</pre></div></div></div><div class=\"sk-serial\"><div class=\"sk-item sk-dashed-wrapped\"><div class=\"sk-label-container\"><div class=\"sk-label sk-toggleable\"><input class=\"sk-toggleable__control sk-hidden--visually\" id=\"sk-estimator-id-2\" type=\"checkbox\" ><label for=\"sk-estimator-id-2\" class=\"sk-toggleable__label sk-toggleable__label-arrow\">preprocessor: ColumnTransformer</label><div class=\"sk-toggleable__content\"><pre>ColumnTransformer(transformers=[(&#x27;onehot&#x27;,\n",
       "                                 OneHotEncoder(handle_unknown=&#x27;ignore&#x27;),\n",
       "                                 [&#x27;Location&#x27;]),\n",
       "                                (&#x27;scale&#x27;, StandardScaler(),\n",
       "                                 [&#x27;BHK&#x27;, &#x27;Area_in_sqft_log&#x27;])])</pre></div></div></div><div class=\"sk-parallel\"><div class=\"sk-parallel-item\"><div class=\"sk-item\"><div class=\"sk-label-container\"><div class=\"sk-label sk-toggleable\"><input class=\"sk-toggleable__control sk-hidden--visually\" id=\"sk-estimator-id-3\" type=\"checkbox\" ><label for=\"sk-estimator-id-3\" class=\"sk-toggleable__label sk-toggleable__label-arrow\">onehot</label><div class=\"sk-toggleable__content\"><pre>[&#x27;Location&#x27;]</pre></div></div></div><div class=\"sk-serial\"><div class=\"sk-item\"><div class=\"sk-estimator sk-toggleable\"><input class=\"sk-toggleable__control sk-hidden--visually\" id=\"sk-estimator-id-4\" type=\"checkbox\" ><label for=\"sk-estimator-id-4\" class=\"sk-toggleable__label sk-toggleable__label-arrow\">OneHotEncoder</label><div class=\"sk-toggleable__content\"><pre>OneHotEncoder(handle_unknown=&#x27;ignore&#x27;)</pre></div></div></div></div></div></div><div class=\"sk-parallel-item\"><div class=\"sk-item\"><div class=\"sk-label-container\"><div class=\"sk-label sk-toggleable\"><input class=\"sk-toggleable__control sk-hidden--visually\" id=\"sk-estimator-id-5\" type=\"checkbox\" ><label for=\"sk-estimator-id-5\" class=\"sk-toggleable__label sk-toggleable__label-arrow\">scale</label><div class=\"sk-toggleable__content\"><pre>[&#x27;BHK&#x27;, &#x27;Area_in_sqft_log&#x27;]</pre></div></div></div><div class=\"sk-serial\"><div class=\"sk-item\"><div class=\"sk-estimator sk-toggleable\"><input class=\"sk-toggleable__control sk-hidden--visually\" id=\"sk-estimator-id-6\" type=\"checkbox\" ><label for=\"sk-estimator-id-6\" class=\"sk-toggleable__label sk-toggleable__label-arrow\">StandardScaler</label><div class=\"sk-toggleable__content\"><pre>StandardScaler()</pre></div></div></div></div></div></div></div></div><div class=\"sk-item\"><div class=\"sk-estimator sk-toggleable\"><input class=\"sk-toggleable__control sk-hidden--visually\" id=\"sk-estimator-id-7\" type=\"checkbox\" ><label for=\"sk-estimator-id-7\" class=\"sk-toggleable__label sk-toggleable__label-arrow\">LinearRegression</label><div class=\"sk-toggleable__content\"><pre>LinearRegression()</pre></div></div></div></div></div></div></div>"
      ],
      "text/plain": [
       "Pipeline(steps=[('preprocessor',\n",
       "                 ColumnTransformer(transformers=[('onehot',\n",
       "                                                  OneHotEncoder(handle_unknown='ignore'),\n",
       "                                                  ['Location']),\n",
       "                                                 ('scale', StandardScaler(),\n",
       "                                                  ['BHK',\n",
       "                                                   'Area_in_sqft_log'])])),\n",
       "                ('model', LinearRegression())])"
      ]
     },
     "execution_count": 48,
     "metadata": {},
     "output_type": "execute_result"
    }
   ],
   "source": [
    "# Full pipeline\n",
    "pipeline = Pipeline([\n",
    "    ('preprocessor', preprocessor),\n",
    "    ('model', LinearRegression())\n",
    "])\n",
    "\n",
    "# Train\n",
    "pipeline.fit(X_train, y_train)"
   ]
  },
  {
   "cell_type": "code",
   "execution_count": 49,
   "metadata": {},
   "outputs": [
    {
     "name": "stdout",
     "output_type": "stream",
     "text": [
      "✅ Model and metadata saved!\n"
     ]
    }
   ],
   "source": [
    "# Save model and rare locations\n",
    "joblib.dump(pipeline, r'C:\\Users\\rohit\\Desktop\\Machine Learning\\housing_app\\linear_regression_model.pkl')\n",
    "joblib.dump(rare_locations.tolist(), r'C:\\Users\\rohit\\Desktop\\Machine Learning\\housing_app\\rare_locations.pkl')\n",
    "\n",
    "print(\"✅ Model and metadata saved!\")"
   ]
  },
  {
   "cell_type": "code",
   "execution_count": 50,
   "metadata": {},
   "outputs": [
    {
     "name": "stdout",
     "output_type": "stream",
     "text": [
      "🏠 Predicted Price: ₹85.0 Lakh\n"
     ]
    }
   ],
   "source": [
    "import pandas as pd\n",
    "import numpy as np\n",
    "import joblib\n",
    "\n",
    "def predict_price(location, bhk, area_in_sqft):\n",
    "    # Load saved pipeline and rare location list\n",
    "    pipeline = joblib.load('linear_regression_model.pkl')\n",
    "    rare_locations = joblib.load(r'C:\\Users\\rohit\\Desktop\\Machine Learning\\housing_app\\rare_locations.pkl')\n",
    "\n",
    "    # Preprocess input\n",
    "    location_cleaned = location.strip().title()\n",
    "    if location_cleaned in rare_locations:\n",
    "        location_cleaned = 'Others'\n",
    "\n",
    "    input_df = pd.DataFrame([{\n",
    "        'Location': location_cleaned,\n",
    "        'BHK': bhk,\n",
    "        'Area_in_sqft_log': np.log1p(area_in_sqft)\n",
    "    }])\n",
    "\n",
    "    # Predict\n",
    "    try:\n",
    "        log_pred = pipeline.predict(input_df)\n",
    "        price = np.expm1(log_pred)[0]\n",
    "        return f\"🏠 Predicted Price: ₹{round(price, 2)} Lakh\"\n",
    "    except Exception as e:\n",
    "        return f\"❌ Error: {e}\"\n",
    "\n",
    "# ✅ Example usage\n",
    "print(predict_price(\"Wakad\", 2, 850))\n"
   ]
  },
  {
   "cell_type": "markdown",
   "metadata": {},
   "source": [
    "# USING RANDOM FOREST FOR THE PREDICTION"
   ]
  },
  {
   "cell_type": "code",
   "execution_count": 51,
   "metadata": {},
   "outputs": [],
   "source": [
    "# Full pipeline\n",
    "pipeline = Pipeline([\n",
    "    ('preprocessor', preprocessor),\n",
    "    ('model', RandomForestRegressor(n_estimators=100, random_state=42))\n",
    "])\n"
   ]
  },
  {
   "cell_type": "code",
   "execution_count": 52,
   "metadata": {},
   "outputs": [
    {
     "data": {
      "text/html": [
       "<style>#sk-container-id-2 {color: black;}#sk-container-id-2 pre{padding: 0;}#sk-container-id-2 div.sk-toggleable {background-color: white;}#sk-container-id-2 label.sk-toggleable__label {cursor: pointer;display: block;width: 100%;margin-bottom: 0;padding: 0.3em;box-sizing: border-box;text-align: center;}#sk-container-id-2 label.sk-toggleable__label-arrow:before {content: \"▸\";float: left;margin-right: 0.25em;color: #696969;}#sk-container-id-2 label.sk-toggleable__label-arrow:hover:before {color: black;}#sk-container-id-2 div.sk-estimator:hover label.sk-toggleable__label-arrow:before {color: black;}#sk-container-id-2 div.sk-toggleable__content {max-height: 0;max-width: 0;overflow: hidden;text-align: left;background-color: #f0f8ff;}#sk-container-id-2 div.sk-toggleable__content pre {margin: 0.2em;color: black;border-radius: 0.25em;background-color: #f0f8ff;}#sk-container-id-2 input.sk-toggleable__control:checked~div.sk-toggleable__content {max-height: 200px;max-width: 100%;overflow: auto;}#sk-container-id-2 input.sk-toggleable__control:checked~label.sk-toggleable__label-arrow:before {content: \"▾\";}#sk-container-id-2 div.sk-estimator input.sk-toggleable__control:checked~label.sk-toggleable__label {background-color: #d4ebff;}#sk-container-id-2 div.sk-label input.sk-toggleable__control:checked~label.sk-toggleable__label {background-color: #d4ebff;}#sk-container-id-2 input.sk-hidden--visually {border: 0;clip: rect(1px 1px 1px 1px);clip: rect(1px, 1px, 1px, 1px);height: 1px;margin: -1px;overflow: hidden;padding: 0;position: absolute;width: 1px;}#sk-container-id-2 div.sk-estimator {font-family: monospace;background-color: #f0f8ff;border: 1px dotted black;border-radius: 0.25em;box-sizing: border-box;margin-bottom: 0.5em;}#sk-container-id-2 div.sk-estimator:hover {background-color: #d4ebff;}#sk-container-id-2 div.sk-parallel-item::after {content: \"\";width: 100%;border-bottom: 1px solid gray;flex-grow: 1;}#sk-container-id-2 div.sk-label:hover label.sk-toggleable__label {background-color: #d4ebff;}#sk-container-id-2 div.sk-serial::before {content: \"\";position: absolute;border-left: 1px solid gray;box-sizing: border-box;top: 0;bottom: 0;left: 50%;z-index: 0;}#sk-container-id-2 div.sk-serial {display: flex;flex-direction: column;align-items: center;background-color: white;padding-right: 0.2em;padding-left: 0.2em;position: relative;}#sk-container-id-2 div.sk-item {position: relative;z-index: 1;}#sk-container-id-2 div.sk-parallel {display: flex;align-items: stretch;justify-content: center;background-color: white;position: relative;}#sk-container-id-2 div.sk-item::before, #sk-container-id-2 div.sk-parallel-item::before {content: \"\";position: absolute;border-left: 1px solid gray;box-sizing: border-box;top: 0;bottom: 0;left: 50%;z-index: -1;}#sk-container-id-2 div.sk-parallel-item {display: flex;flex-direction: column;z-index: 1;position: relative;background-color: white;}#sk-container-id-2 div.sk-parallel-item:first-child::after {align-self: flex-end;width: 50%;}#sk-container-id-2 div.sk-parallel-item:last-child::after {align-self: flex-start;width: 50%;}#sk-container-id-2 div.sk-parallel-item:only-child::after {width: 0;}#sk-container-id-2 div.sk-dashed-wrapped {border: 1px dashed gray;margin: 0 0.4em 0.5em 0.4em;box-sizing: border-box;padding-bottom: 0.4em;background-color: white;}#sk-container-id-2 div.sk-label label {font-family: monospace;font-weight: bold;display: inline-block;line-height: 1.2em;}#sk-container-id-2 div.sk-label-container {text-align: center;}#sk-container-id-2 div.sk-container {/* jupyter's `normalize.less` sets `[hidden] { display: none; }` but bootstrap.min.css set `[hidden] { display: none !important; }` so we also need the `!important` here to be able to override the default hidden behavior on the sphinx rendered scikit-learn.org. See: https://github.com/scikit-learn/scikit-learn/issues/21755 */display: inline-block !important;position: relative;}#sk-container-id-2 div.sk-text-repr-fallback {display: none;}</style><div id=\"sk-container-id-2\" class=\"sk-top-container\"><div class=\"sk-text-repr-fallback\"><pre>Pipeline(steps=[(&#x27;preprocessor&#x27;,\n",
       "                 ColumnTransformer(transformers=[(&#x27;onehot&#x27;,\n",
       "                                                  OneHotEncoder(handle_unknown=&#x27;ignore&#x27;),\n",
       "                                                  [&#x27;Location&#x27;]),\n",
       "                                                 (&#x27;scale&#x27;, StandardScaler(),\n",
       "                                                  [&#x27;BHK&#x27;,\n",
       "                                                   &#x27;Area_in_sqft_log&#x27;])])),\n",
       "                (&#x27;model&#x27;, RandomForestRegressor(random_state=42))])</pre><b>In a Jupyter environment, please rerun this cell to show the HTML representation or trust the notebook. <br />On GitHub, the HTML representation is unable to render, please try loading this page with nbviewer.org.</b></div><div class=\"sk-container\" hidden><div class=\"sk-item sk-dashed-wrapped\"><div class=\"sk-label-container\"><div class=\"sk-label sk-toggleable\"><input class=\"sk-toggleable__control sk-hidden--visually\" id=\"sk-estimator-id-8\" type=\"checkbox\" ><label for=\"sk-estimator-id-8\" class=\"sk-toggleable__label sk-toggleable__label-arrow\">Pipeline</label><div class=\"sk-toggleable__content\"><pre>Pipeline(steps=[(&#x27;preprocessor&#x27;,\n",
       "                 ColumnTransformer(transformers=[(&#x27;onehot&#x27;,\n",
       "                                                  OneHotEncoder(handle_unknown=&#x27;ignore&#x27;),\n",
       "                                                  [&#x27;Location&#x27;]),\n",
       "                                                 (&#x27;scale&#x27;, StandardScaler(),\n",
       "                                                  [&#x27;BHK&#x27;,\n",
       "                                                   &#x27;Area_in_sqft_log&#x27;])])),\n",
       "                (&#x27;model&#x27;, RandomForestRegressor(random_state=42))])</pre></div></div></div><div class=\"sk-serial\"><div class=\"sk-item sk-dashed-wrapped\"><div class=\"sk-label-container\"><div class=\"sk-label sk-toggleable\"><input class=\"sk-toggleable__control sk-hidden--visually\" id=\"sk-estimator-id-9\" type=\"checkbox\" ><label for=\"sk-estimator-id-9\" class=\"sk-toggleable__label sk-toggleable__label-arrow\">preprocessor: ColumnTransformer</label><div class=\"sk-toggleable__content\"><pre>ColumnTransformer(transformers=[(&#x27;onehot&#x27;,\n",
       "                                 OneHotEncoder(handle_unknown=&#x27;ignore&#x27;),\n",
       "                                 [&#x27;Location&#x27;]),\n",
       "                                (&#x27;scale&#x27;, StandardScaler(),\n",
       "                                 [&#x27;BHK&#x27;, &#x27;Area_in_sqft_log&#x27;])])</pre></div></div></div><div class=\"sk-parallel\"><div class=\"sk-parallel-item\"><div class=\"sk-item\"><div class=\"sk-label-container\"><div class=\"sk-label sk-toggleable\"><input class=\"sk-toggleable__control sk-hidden--visually\" id=\"sk-estimator-id-10\" type=\"checkbox\" ><label for=\"sk-estimator-id-10\" class=\"sk-toggleable__label sk-toggleable__label-arrow\">onehot</label><div class=\"sk-toggleable__content\"><pre>[&#x27;Location&#x27;]</pre></div></div></div><div class=\"sk-serial\"><div class=\"sk-item\"><div class=\"sk-estimator sk-toggleable\"><input class=\"sk-toggleable__control sk-hidden--visually\" id=\"sk-estimator-id-11\" type=\"checkbox\" ><label for=\"sk-estimator-id-11\" class=\"sk-toggleable__label sk-toggleable__label-arrow\">OneHotEncoder</label><div class=\"sk-toggleable__content\"><pre>OneHotEncoder(handle_unknown=&#x27;ignore&#x27;)</pre></div></div></div></div></div></div><div class=\"sk-parallel-item\"><div class=\"sk-item\"><div class=\"sk-label-container\"><div class=\"sk-label sk-toggleable\"><input class=\"sk-toggleable__control sk-hidden--visually\" id=\"sk-estimator-id-12\" type=\"checkbox\" ><label for=\"sk-estimator-id-12\" class=\"sk-toggleable__label sk-toggleable__label-arrow\">scale</label><div class=\"sk-toggleable__content\"><pre>[&#x27;BHK&#x27;, &#x27;Area_in_sqft_log&#x27;]</pre></div></div></div><div class=\"sk-serial\"><div class=\"sk-item\"><div class=\"sk-estimator sk-toggleable\"><input class=\"sk-toggleable__control sk-hidden--visually\" id=\"sk-estimator-id-13\" type=\"checkbox\" ><label for=\"sk-estimator-id-13\" class=\"sk-toggleable__label sk-toggleable__label-arrow\">StandardScaler</label><div class=\"sk-toggleable__content\"><pre>StandardScaler()</pre></div></div></div></div></div></div></div></div><div class=\"sk-item\"><div class=\"sk-estimator sk-toggleable\"><input class=\"sk-toggleable__control sk-hidden--visually\" id=\"sk-estimator-id-14\" type=\"checkbox\" ><label for=\"sk-estimator-id-14\" class=\"sk-toggleable__label sk-toggleable__label-arrow\">RandomForestRegressor</label><div class=\"sk-toggleable__content\"><pre>RandomForestRegressor(random_state=42)</pre></div></div></div></div></div></div></div>"
      ],
      "text/plain": [
       "Pipeline(steps=[('preprocessor',\n",
       "                 ColumnTransformer(transformers=[('onehot',\n",
       "                                                  OneHotEncoder(handle_unknown='ignore'),\n",
       "                                                  ['Location']),\n",
       "                                                 ('scale', StandardScaler(),\n",
       "                                                  ['BHK',\n",
       "                                                   'Area_in_sqft_log'])])),\n",
       "                ('model', RandomForestRegressor(random_state=42))])"
      ]
     },
     "execution_count": 52,
     "metadata": {},
     "output_type": "execute_result"
    }
   ],
   "source": [
    "# Train model\n",
    "pipeline.fit(X_train, y_train)"
   ]
  },
  {
   "cell_type": "code",
   "execution_count": 53,
   "metadata": {},
   "outputs": [
    {
     "name": "stdout",
     "output_type": "stream",
     "text": [
      "✅ Random Forest model saved as rf_model.pkl\n"
     ]
    }
   ],
   "source": [
    "# Save model and location info\n",
    "joblib.dump(pipeline, r'C:\\Users\\rohit\\Desktop\\Machine Learning\\housing_app\\rf_model.pkl')\n",
    "joblib.dump(rare_locations.tolist(), 'rare_locations.pkl')\n",
    "\n",
    "print(\"✅ Random Forest model saved as rf_model.pkl\")"
   ]
  },
  {
   "cell_type": "code",
   "execution_count": 54,
   "metadata": {},
   "outputs": [
    {
     "name": "stdout",
     "output_type": "stream",
     "text": [
      "🌲 RF Predicted Price: ₹58.55 Lakh\n"
     ]
    }
   ],
   "source": [
    "def predict_rf_price(location, bhk, area_in_sqft):\n",
    "    pipeline = joblib.load('rf_model.pkl')\n",
    "    rare_locations = joblib.load('rare_locations.pkl')\n",
    "\n",
    "    location_cleaned = location.strip().title()\n",
    "    if location_cleaned in rare_locations:\n",
    "        location_cleaned = 'Others'\n",
    "\n",
    "    input_df = pd.DataFrame([{\n",
    "        'Location': location_cleaned,\n",
    "        'BHK': bhk,\n",
    "        'Area_in_sqft_log': np.log1p(area_in_sqft)\n",
    "    }])\n",
    "\n",
    "    try:\n",
    "        log_pred = pipeline.predict(input_df)\n",
    "        price = np.expm1(log_pred)[0]\n",
    "        return f\"🌲 RF Predicted Price: ₹{round(price, 2)} Lakh\"\n",
    "    except Exception as e:\n",
    "        return f\"❌ Error: {e}\"\n",
    "\n",
    "# Example\n",
    "print(predict_rf_price(\"Wakad\", 2, 850))"
   ]
  },
  {
   "cell_type": "markdown",
   "metadata": {},
   "source": [
    "# USING XG BOOST FOR THE PREDICTION"
   ]
  },
  {
   "cell_type": "code",
   "execution_count": 55,
   "metadata": {},
   "outputs": [],
   "source": [
    "# Pipeline with XGBoost\n",
    "pipeline = Pipeline([\n",
    "    ('preprocessor', preprocessor),\n",
    "    ('model', XGBRegressor(n_estimators=100, random_state=42))\n",
    "])"
   ]
  },
  {
   "cell_type": "code",
   "execution_count": 56,
   "metadata": {},
   "outputs": [
    {
     "name": "stdout",
     "output_type": "stream",
     "text": [
      "✅ XGBoost model saved as xgb_model.pkl\n"
     ]
    }
   ],
   "source": [
    "pipeline.fit(X_train, y_train)\n",
    "\n",
    "# Save model\n",
    "joblib.dump(pipeline, r'C:\\Users\\rohit\\Desktop\\Machine Learning\\housing_app\\xgb_model.pkl')\n",
    "joblib.dump(rare_locations.tolist(), 'rare_locations.pkl')\n",
    "\n",
    "print(\"✅ XGBoost model saved as xgb_model.pkl\")"
   ]
  },
  {
   "cell_type": "code",
   "execution_count": 57,
   "metadata": {},
   "outputs": [
    {
     "name": "stdout",
     "output_type": "stream",
     "text": [
      "⚡ XGB Predicted Price: ₹69.1500015258789 Lakh\n"
     ]
    }
   ],
   "source": [
    "def predict_xgb_price(location, bhk, area_in_sqft):\n",
    "    pipeline = joblib.load('xgb_model.pkl')\n",
    "    rare_locations = joblib.load('rare_locations.pkl')\n",
    "\n",
    "    location_cleaned = location.strip().title()\n",
    "    if location_cleaned in rare_locations:\n",
    "        location_cleaned = 'Others'\n",
    "\n",
    "    input_df = pd.DataFrame([{\n",
    "        'Location': location_cleaned,\n",
    "        'BHK': bhk,\n",
    "        'Area_in_sqft_log': np.log1p(area_in_sqft)\n",
    "    }])\n",
    "\n",
    "    try:\n",
    "        log_pred = pipeline.predict(input_df)\n",
    "        price = np.expm1(log_pred)[0]\n",
    "        return f\"⚡ XGB Predicted Price: ₹{round(price, 2)} Lakh\"\n",
    "    except Exception as e:\n",
    "        return f\"❌ Error: {e}\"\n",
    "\n",
    "# Example\n",
    "print(predict_xgb_price(\"Wakad\", 2, 850))"
   ]
  },
  {
   "cell_type": "code",
   "execution_count": 59,
   "metadata": {},
   "outputs": [],
   "source": [
    "import streamlit as st"
   ]
  },
  {
   "cell_type": "code",
   "execution_count": 60,
   "metadata": {},
   "outputs": [
    {
     "name": "stderr",
     "output_type": "stream",
     "text": [
      "2025-07-28 20:58:51.652 WARNING streamlit.runtime.scriptrunner_utils.script_run_context: Thread 'MainThread': missing ScriptRunContext! This warning can be ignored when running in bare mode.\n",
      "2025-07-28 20:58:52.030 \n",
      "  \u001b[33m\u001b[1mWarning:\u001b[0m to view this Streamlit app on a browser, run it with the following\n",
      "  command:\n",
      "\n",
      "    streamlit run c:\\users\\rohit\\appdata\\local\\programs\\python\\python38\\lib\\site-packages\\ipykernel_launcher.py [ARGUMENTS]\n",
      "2025-07-28 20:58:52.031 Thread 'MainThread': missing ScriptRunContext! This warning can be ignored when running in bare mode.\n",
      "2025-07-28 20:58:52.032 Thread 'MainThread': missing ScriptRunContext! This warning can be ignored when running in bare mode.\n",
      "2025-07-28 20:58:52.036 Thread 'MainThread': missing ScriptRunContext! This warning can be ignored when running in bare mode.\n",
      "2025-07-28 20:58:52.038 Thread 'MainThread': missing ScriptRunContext! This warning can be ignored when running in bare mode.\n",
      "2025-07-28 20:58:52.039 Thread 'MainThread': missing ScriptRunContext! This warning can be ignored when running in bare mode.\n",
      "2025-07-28 20:58:52.045 Thread 'MainThread': missing ScriptRunContext! This warning can be ignored when running in bare mode.\n",
      "2025-07-28 20:58:52.059 Thread 'MainThread': missing ScriptRunContext! This warning can be ignored when running in bare mode.\n",
      "2025-07-28 20:58:52.061 Session state does not function when running a script without `streamlit run`\n",
      "2025-07-28 20:58:52.070 Thread 'MainThread': missing ScriptRunContext! This warning can be ignored when running in bare mode.\n",
      "2025-07-28 20:58:52.072 Thread 'MainThread': missing ScriptRunContext! This warning can be ignored when running in bare mode.\n",
      "2025-07-28 20:58:52.073 Thread 'MainThread': missing ScriptRunContext! This warning can be ignored when running in bare mode.\n",
      "2025-07-28 20:58:52.074 Thread 'MainThread': missing ScriptRunContext! This warning can be ignored when running in bare mode.\n",
      "2025-07-28 20:58:52.083 Thread 'MainThread': missing ScriptRunContext! This warning can be ignored when running in bare mode.\n",
      "2025-07-28 20:58:52.089 Thread 'MainThread': missing ScriptRunContext! This warning can be ignored when running in bare mode.\n",
      "2025-07-28 20:58:52.092 Thread 'MainThread': missing ScriptRunContext! This warning can be ignored when running in bare mode.\n",
      "2025-07-28 20:58:52.095 Thread 'MainThread': missing ScriptRunContext! This warning can be ignored when running in bare mode.\n",
      "2025-07-28 20:58:52.100 Thread 'MainThread': missing ScriptRunContext! This warning can be ignored when running in bare mode.\n",
      "2025-07-28 20:58:52.104 Thread 'MainThread': missing ScriptRunContext! This warning can be ignored when running in bare mode.\n",
      "2025-07-28 20:58:52.109 Thread 'MainThread': missing ScriptRunContext! This warning can be ignored when running in bare mode.\n",
      "2025-07-28 20:58:52.113 Thread 'MainThread': missing ScriptRunContext! This warning can be ignored when running in bare mode.\n",
      "2025-07-28 20:58:52.118 Thread 'MainThread': missing ScriptRunContext! This warning can be ignored when running in bare mode.\n",
      "2025-07-28 20:58:52.122 Thread 'MainThread': missing ScriptRunContext! This warning can be ignored when running in bare mode.\n",
      "2025-07-28 20:58:52.126 Thread 'MainThread': missing ScriptRunContext! This warning can be ignored when running in bare mode.\n",
      "2025-07-28 20:58:52.128 Thread 'MainThread': missing ScriptRunContext! This warning can be ignored when running in bare mode.\n",
      "2025-07-28 20:58:52.131 Thread 'MainThread': missing ScriptRunContext! This warning can be ignored when running in bare mode.\n",
      "2025-07-28 20:58:52.137 Thread 'MainThread': missing ScriptRunContext! This warning can be ignored when running in bare mode.\n"
     ]
    }
   ],
   "source": [
    "# Load model and feature metadata\n",
    "model = joblib.load(r'C:\\Users\\rohit\\Desktop\\Machine Learning\\housing_app\\linear_regression_model.pkl')\n",
    "model_features = joblib.load(r'C:\\Users\\rohit\\Desktop\\Machine Learning\\housing_app\\model_features.pkl')\n",
    "rare_locations = joblib.load(r'C:\\Users\\rohit\\Desktop\\Machine Learning\\housing_app\\rare_locations.pkl')\n",
    "\n",
    "st.title(\"🏠 House Price Prediction in Pune\")\n",
    "st.markdown(\"Enter the property details below:\")\n",
    "\n",
    "# User Inputs\n",
    "location_input = st.text_input(\"Location\", \"Wakad\")\n",
    "bhk = st.slider(\"Number of Bedrooms (BHK)\", 1, 10, 2)\n",
    "area = st.number_input(\"Area (in sqft)\", min_value=200, max_value=10000, value=850)\n",
    "\n",
    "# Prediction Logic\n",
    "def preprocess_input(location, bhk, area_sqft):\n",
    "    location_cleaned = location.strip().title()\n",
    "\n",
    "    # Handle rare location\n",
    "    if location_cleaned in rare_locations:\n",
    "        location_cleaned = 'Others'\n",
    "\n",
    "    # Create empty dataframe with all model features\n",
    "    input_data = pd.DataFrame(columns=model_features)\n",
    "    input_data.loc[0] = [0] * len(model_features)\n",
    "\n",
    "    # Fill in numeric features\n",
    "    input_data.at[0, 'BHK'] = bhk\n",
    "    input_data.at[0, 'Area_in_sqft_log'] = np.log1p(area_sqft)\n",
    "\n",
    "    # Fill in one-hot encoded location\n",
    "    location_col = f'Location_{location_cleaned}'\n",
    "    if location_col in input_data.columns:\n",
    "        input_data.at[0, location_col] = 1\n",
    "\n",
    "    return input_data\n",
    "\n",
    "if st.button(\"Predict Price\"):\n",
    "    input_df = preprocess_input(location_input, bhk, area)\n",
    "    try:\n",
    "        log_pred = model.predict(input_df)\n",
    "        price = np.expm1(log_pred)[0]\n",
    "        st.success(f\"💰 Predicted Price: ₹{price:.2f} Lakh\")\n",
    "    except Exception as e:\n",
    "        st.error(f\"❌ Prediction Error: {e}\")"
   ]
  },
  {
   "cell_type": "code",
   "execution_count": null,
   "metadata": {},
   "outputs": [],
   "source": []
  }
 ],
 "metadata": {
  "kernelspec": {
   "display_name": "Python 3",
   "language": "python",
   "name": "python3"
  },
  "language_info": {
   "codemirror_mode": {
    "name": "ipython",
    "version": 3
   },
   "file_extension": ".py",
   "mimetype": "text/x-python",
   "name": "python",
   "nbconvert_exporter": "python",
   "pygments_lexer": "ipython3",
   "version": "3.8.5"
  }
 },
 "nbformat": 4,
 "nbformat_minor": 4
}
